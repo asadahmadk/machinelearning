{
 "cells": [
  {
   "cell_type": "code",
   "execution_count": 13,
   "metadata": {},
   "outputs": [],
   "source": [
    "import numpy as np\n",
    "import pandas as pd\n",
    "import matplotlib.pyplot as plt\n",
    "%matplotlib inline\n",
    "from sklearn.cluster import KMeans\n",
    "from sklearn.decomposition import PCA\n",
    "from sklearn.preprocessing import StandardScaler\n",
    "%config InlineBackend.figure_format='retina'\n",
    "from nltk.corpus import stopwords\n",
    "import seaborn as sns"
   ]
  },
  {
   "cell_type": "code",
   "execution_count": 2,
   "metadata": {},
   "outputs": [],
   "source": [
    "raw_data = pd.read_json('food_enforcement_US_bacteria.json', orient='records')"
   ]
  },
  {
   "cell_type": "code",
   "execution_count": 3,
   "metadata": {},
   "outputs": [
    {
     "name": "stdout",
     "output_type": "stream",
     "text": [
      "(6104, 26)\n",
      "0    Native Catch Salmon Bacon, Traditional flavor....\n",
      "1    Delish Fruit Burst 10 oz.(283 g)  Enjoy by: 8/...\n",
      "2    Garden Pure Holiday Fruit Bowl 4 lbs (1.81kg) ...\n",
      "3    Fresh Fruit Product is labeled in part:  \"***F...\n",
      "4    Ready Pac¿ Gourmet Fruit Bowl, 64oz , UPC 7774...\n",
      "5    River Ranch brand Diced Grn Cabbage w/Color, 4...\n",
      "6    Sweet and Sour Stir Fry packaged under the fol...\n",
      "7    Onion Slab Cut.  Products are labeled in part:...\n",
      "8    MIX w/yellow onions used as an ingredient.  Pr...\n",
      "9    Fresh n Easy brand Shred Grn Cabbage w/Color, ...\n",
      "Name: product_description, dtype: object\n"
     ]
    }
   ],
   "source": [
    "print(raw_data.shape)\n",
    "print(raw_data.head(10).product_description)"
   ]
  },
  {
   "cell_type": "markdown",
   "metadata": {},
   "source": [
    "### Bag of words feature representation for descriptive text"
   ]
  },
  {
   "cell_type": "code",
   "execution_count": 15,
   "metadata": {},
   "outputs": [
    {
     "name": "stderr",
     "output_type": "stream",
     "text": [
      "/var/folders/67/cjdzwvz54hj6d45sk1m183s80000gn/T/ipykernel_24169/3001730488.py:8: FutureWarning: The default value of regex will change from True to False in a future version.\n",
      "  raw_data['product_description'] = raw_data['product_description'].str.replace('[^\\w\\s]','')\n",
      "[nltk_data] Downloading package stopwords to\n",
      "[nltk_data]     /Users/asadakhan/nltk_data...\n",
      "[nltk_data]   Package stopwords is already up-to-date!\n"
     ]
    },
    {
     "data": {
      "text/plain": [
       "(6104, 131072)"
      ]
     },
     "execution_count": 15,
     "metadata": {},
     "output_type": "execute_result"
    }
   ],
   "source": [
    "# from sklearn.feature_extraction.text import CountVectorizer\n",
    "# vectorizer = CountVectorizer()\n",
    "\n",
    "from sklearn.feature_extraction.text import HashingVectorizer\n",
    "vectorizer = HashingVectorizer(n_features=2 ** 17, alternate_sign=False)\n",
    "\n",
    "corpus = []\n",
    "raw_data['product_description'] = raw_data['product_description'].str.replace('[^\\w\\s]','')\n",
    "\n",
    "import nltk\n",
    "nltk.download('stopwords')\n",
    "\n",
    "common=['oz','lb','lbs','product','packaged','code','brand','upc','packed','sold','distributed','net','wt','g','inc','item','labeled','label','ca','llc','date','bag','bags','weight','case','container','plastic','per','size','individually','containers','kg','film']\n",
    "s=set(stopwords.words('english')+common)\n",
    "\n",
    "for i in range(0,len(raw_data['product_description'])):\n",
    "    txt=raw_data.product_description[i].lower()\n",
    "    str_list = txt.split()\n",
    "\n",
    "    stri = ' '.join(set(str_list) - s)\n",
    "    corpus += [stri]\n",
    "    \n",
    "# print(corpus)\n",
    "X = vectorizer.fit_transform(corpus)\n",
    "X.shape\n",
    "     "
   ]
  },
  {
   "cell_type": "markdown",
   "metadata": {},
   "source": [
    "### Elbow Plot\n"
   ]
  },
  {
   "cell_type": "code",
   "execution_count": null,
   "metadata": {},
   "outputs": [],
   "source": [
    "from sklearn.cluster import KMeans\n",
    "kmeans_kwargs = {\n",
    "    \"init\": \"random\",\n",
    "    \"n_init\": 15,\n",
    "    \"max_iter\": 300,\n",
    "    \"random_state\": 22,\n",
    "}\n",
    "\n",
    "# A list holds the SSE values for each k\n",
    "sse = []\n",
    "for k in range(1, 50):\n",
    "    kmeans = KMeans(n_clusters=k, **kmeans_kwargs)\n",
    "    kmeans.fit(X)\n",
    "    sse.append(kmeans.inertia_)"
   ]
  },
  {
   "cell_type": "code",
   "execution_count": null,
   "metadata": {},
   "outputs": [],
   "source": [
    "plt.style.use(\"fivethirtyeight\")\n",
    " plt.plot(range(1, 50), sse)\n",
    " plt.xticks(range(1, 50))\n",
    " plt.xlabel(\"Number of Clusters\")\n",
    " plt.ylabel(\"SSE\")\n",
    " plt.show()"
   ]
  },
  {
   "cell_type": "code",
   "execution_count": null,
   "metadata": {},
   "outputs": [],
   "source": [
    "range_n_clusters = [15]"
   ]
  },
  {
   "cell_type": "code",
   "execution_count": null,
   "metadata": {},
   "outputs": [],
   "source": [
    "# modified from: http://scikit-learn.org/stable/auto_examples/cluster/plot_kmeans_silhouette_analysis.html\n",
    "\n",
    "from sklearn.metrics import silhouette_samples, silhouette_score\n",
    "import matplotlib.cm as cm\n",
    "import random\n",
    "\n",
    "for n_clusters in range_n_clusters:\n",
    "    # Create a subplot\n",
    "    fig, (ax1) = plt.subplots(1, 1)\n",
    "    fig.set_size_inches(9, 17)\n",
    "\n",
    "    # The silhouette coefficient can range from -1, 1 but in this example all lie within [-0.1, 1]\n",
    "    ax1.set_xlim([-0.1, 1])\n",
    "    # The (n_clusters+1)*10 is for inserting blank space between silhouette plots of individual clusters, to demarcate them clearly.\n",
    "#     ax1.set_ylim([0, len(X) + (n_clusters + 1) * 10])\n",
    "    ax1.set_ylim([0, 6000 + (n_clusters + 1) * 10])\n",
    "    \n",
    "    kmeans_kwargs = {\n",
    "        \"n_init\": 20,\n",
    "        \"max_iter\": 1000,\n",
    "        \"random_state\": 54,\n",
    "    }\n",
    "\n",
    "    # Initialize the clusterer with n_clusters value and a random generator seed of 10 for reproducibility.\n",
    "    clusterer = KMeans(n_clusters=n_clusters, **kmeans_kwargs)\n",
    "    cluster_labels = clusterer.fit_predict(X)\n",
    "\n",
    "    # The silhouette_score gives the average value for all the samples.\n",
    "    silhouette_avg = silhouette_score(X, cluster_labels)\n",
    "    print(\"For n_clusters =\", n_clusters, \"The average silhouette_score is :\", silhouette_avg)\n",
    "\n",
    "    # Compute the silhouette scores for each sample\n",
    "    sample_silhouette_values = silhouette_samples(X, cluster_labels)\n",
    "\n",
    "    y_lower = 10\n",
    "    for i in range(n_clusters):\n",
    "        # Aggregate the silhouette scores for samples belonging to cluster i, and sort them\n",
    "        ith_cluster_silhouette_values = \\\n",
    "            sample_silhouette_values[cluster_labels == i]\n",
    "\n",
    "        ith_cluster_silhouette_values.sort()\n",
    "\n",
    "        size_cluster_i = ith_cluster_silhouette_values.shape[0]\n",
    "        y_upper = y_lower + size_cluster_i\n",
    "\n",
    "        # select a random color for this cluster\n",
    "        r = lambda: random.randint(0,255)\n",
    "        color = '#%02X%02X%02X' % (r(),r(),r())\n",
    "        ax1.fill_betweenx(np.arange(y_lower, y_upper),\n",
    "                          0, ith_cluster_silhouette_values,\n",
    "                          facecolor=color, edgecolor=color, alpha=0.7)\n",
    "\n",
    "        # Label the silhouette plots with their cluster numbers at the middle\n",
    "#         ax1.text(-0.05, y_lower + 0.5 * size_cluster_i, str(i))\n",
    "\n",
    "        # Compute the new y_lower for next plot\n",
    "        y_lower = y_upper + 10  # 10 for the 0 samples\n",
    "\n",
    "    ax1.set_title(\"The silhouette plot for the various clusters.\")\n",
    "    ax1.set_xlabel(\"The silhouette coefficient values\")\n",
    "    ax1.set_ylabel(\"Cluster label\")\n",
    "\n",
    "    # The vertical line for average silhouette score of all the values\n",
    "    ax1.axvline(x=silhouette_avg, color=\"red\", linestyle=\"--\")\n",
    "\n",
    "    ax1.set_yticks([])  # Clear the yaxis labels / ticks\n",
    "    ax1.set_xticks([-0.1, 0, 0.2, 0.4, 0.6, 0.8, 1])\n",
    "\n",
    "    plt.suptitle((\"Silhouette analysis for KMeans clustering on sample data \"\n",
    "                  \"with n_clusters = %d\" % n_clusters),\n",
    "                 fontsize=14, fontweight='bold')\n",
    "\n",
    "    plt.show()"
   ]
  },
  {
   "cell_type": "code",
   "execution_count": null,
   "metadata": {},
   "outputs": [],
   "source": [
    "#fit Kmeans with k clusters\n",
    "from sklearn.cluster import KMeans\n",
    "\n",
    "kmeans_kwargs = {\n",
    "        \"n_init\": 20,\n",
    "        \"max_iter\": 1000,\n",
    "        \"random_state\": 54,\n",
    "    }\n",
    "\n",
    "km = KMeans(n_clusters=15, **kmeans_kwargs)\n",
    "km.fit(X)\n",
    "     \n"
   ]
  },
  {
   "cell_type": "code",
   "execution_count": null,
   "metadata": {},
   "outputs": [],
   "source": []
  },
  {
   "cell_type": "markdown",
   "metadata": {},
   "source": [
    "### fit Kmeans"
   ]
  },
  {
   "cell_type": "code",
   "execution_count": 17,
   "metadata": {},
   "outputs": [
    {
     "data": {
      "text/plain": [
       "KMeans(n_clusters=50, n_init=30)"
      ]
     },
     "execution_count": 17,
     "metadata": {},
     "output_type": "execute_result"
    }
   ],
   "source": [
    "# #fit Kmeans with k clusters\n",
    "# from sklearn.cluster import KMeans\n",
    "# km = KMeans(n_clusters=50,n_init=30)\n",
    "# km.fit(X)\n",
    "\n",
    "#fit Kmeans with k clusters\n",
    "from sklearn.cluster import KMeans\n",
    "\n",
    "kmeans_kwargs = {\n",
    "        \"n_init\": 20,\n",
    "        \"max_iter\": 1000,\n",
    "        \"random_state\": 54,\n",
    "    }\n",
    "\n",
    "km = KMeans(n_clusters=15, **kmeans_kwargs)\n",
    "km.fit(X)"
   ]
  },
  {
   "cell_type": "markdown",
   "metadata": {},
   "source": [
    "### labels are named with integers and stored in the `labels_` attribute"
   ]
  },
  {
   "cell_type": "code",
   "execution_count": 18,
   "metadata": {},
   "outputs": [
    {
     "data": {
      "text/plain": [
       "array([16, 18,  4, ...,  1,  4,  4], dtype=int32)"
      ]
     },
     "execution_count": 18,
     "metadata": {},
     "output_type": "execute_result"
    }
   ],
   "source": [
    "km.labels_"
   ]
  },
  {
   "cell_type": "code",
   "execution_count": null,
   "metadata": {},
   "outputs": [],
   "source": [
    "def countX(lst, x): \n",
    "    count = 0\n",
    "    for ele in lst: \n",
    "        if (ele == x): \n",
    "            count = count + 1\n",
    "    return count \n",
    "\n",
    "for i in range(0,15):\n",
    "    # Driver Code \n",
    "    lst = km.labels_ \n",
    "    x = i\n",
    "    print('{} has occurred {} times'.format(x, countX(lst, x))) \n",
    "     \n"
   ]
  },
  {
   "cell_type": "markdown",
   "metadata": {},
   "source": [
    "### take a look at one of the cluster results"
   ]
  },
  {
   "cell_type": "code",
   "execution_count": 19,
   "metadata": {},
   "outputs": [
    {
     "name": "stdout",
     "output_type": "stream",
     "text": [
      "Chocolate ice cream is packed in 25 gallon bulk 15 gallon bulk or half gallon retail size tubs  Retail size ice cream flavor is labeled in part Husky Ice Cream Inc 4721 California Ave SW Seattle WA 98116  HUSKY Cream of the Town HALF GALLON ICE CREAM wwwhuskydelicom INGREDIENTS CREAM MILK SKIM MILK POWDER SUGAR CORN SYRUP SOLIDS CAROB BEAN GUM GUAR GUM SOY LECITHIN CARRAGEENAN     No UPC code \n",
      "**********\n",
      "Cappuccino Chip ice cream is packed in 25 gallon bulk 15 gallon bulk or half gallon retail size tubs  Retail size ice cream flavor is labeled in part Husky Ice Cream Inc 4721 California Ave SW Seattle WA 98116  HUSKY Cream of the Town HALF GALLON ICE CREAM wwwhuskydelicom INGREDIENTS CREAM MILK SKIM MILK POWDER SUGAR CORN SYRUP SOLIDS CAROB BEAN GUM GUAR GUM SOY LECITHIN CARRAGEENAN     No UPC code \n",
      "**********\n",
      "Vanilla ice cream is packed in 25 gallon bulk 15 gallon bulk or half gallon retail size tubs  Retail size ice cream flavor is labeled in part Husky Ice Cream Inc 4721 California Ave SW Seattle WA 98116  HUSKY Cream of the Town HALF GALLON ICE CREAM wwwhuskydelicom INGREDIENTS CREAM MILK SKIM MILK POWDER SUGAR CORN SYRUP SOLIDS CAROB BEAN GUM GUAR GUM SOY LECITHIN CARRAGEENAN     No UPC code \n",
      "**********\n",
      "Raspberry Decadence ice cream is packed in 25 gallon bulk 15 gallon bulk or half gallon retail size tubs  Retail size ice cream flavor is labeled in part Husky Ice Cream Inc 4721 California Ave SW Seattle WA 98116  HUSKY Cream of the Town HALF GALLON ICE CREAM wwwhuskydelicom INGREDIENTS CREAM MILK SKIM MILK POWDER SUGAR CORN SYRUP SOLIDS CAROB BEAN GUM GUAR GUM SOY LECITHIN CARRAGEENAN     No UPC code \n",
      "**********\n",
      "Pralines and Cream ice cream is packed in 25 gallon bulk 15 gallon bulk or half gallon retail size tubs  Retail size ice cream flavor is labeled in part Husky Ice Cream Inc 4721 California Ave SW Seattle WA 98116  HUSKY Cream of the Town HALF GALLON ICE CREAM wwwhuskydelicom INGREDIENTS CREAM MILK SKIM MILK POWDER SUGAR CORN SYRUP SOLIDS CAROB BEAN GUM GUAR GUM SOY LECITHIN CARRAGEENAN     No UPC code \n",
      "**********\n",
      "Kona Coffee Frozen Pops  40 fl oz frozen pop is individually packaged in a sealed plastic bag 24 popscase  Product is labeled in part  dark roast 100 kona coffee cream milk skim milk powder nongmo cane sugar less than 04 stabilizer carob bean gum guar gum soy lecithin carrageenanSeattle Pops PO Box 31285 Seattle WA 98103    No UPC code\n",
      "**********\n",
      "Pumpkin Spice ice cream  labeled in part Full Tilt ice cream Loud PumpkinIngredients Cream milk sugar skim milk powder pumpkin puree spice mix cinnamon clove ginger nutmeg cardamom vanilla carob bean gum guar gum soy lecithin carrageenanSeattle WA 98106 wwwfulltilticecreamcom        Ice cream is packaged in 16 oz paper containers and 15 gallon and 3 gallon plastic tubs    UPC code 856962005115 for 16 oz container only  \n",
      "**********\n",
      "Cinnamon Frozen Pops 40 fl oz frozen pop is individually packaged in a sealed plastic bag 24 popscase  Product is labeled in part  cream milk skim milk powder nongmo cane sugar vanilla cinnamon less than 04 stabilizer carob bean gum guar gum soy lecithin carrageenanSeattle Pops PO Box 31285 Seattle WA 98103    No UPC code\n",
      "**********\n",
      "Chocolate Sea Salt Frozen Pops 40 fl oz frozen pop is individually packaged in a sealed plastic bag 24 popscase  Product is labeled in part  cream milk skim milk powder nongmo cane sugar bittersweet chocolate chocolate liquor sugar cocoa butter soy lecithin vanilla cocoa chocolate liquor vanilla salt less than 04 stabilizer carob bean gum guar gum soy lecithin carrageenanSeattle Pops PO Box 31285 Seattle WA 98103    No UPC code\n",
      "**********\n",
      "Mocha Almond Fudge ice cream is packed in 25 gallon bulk 15 gallon bulk or half gallon retail size tubs  Retail size ice cream flavor is labeled in part Husky Ice Cream Inc 4721 California Ave SW Seattle WA 98116  HUSKY Cream of the Town HALF GALLON ICE CREAM wwwhuskydelicom INGREDIENTS CREAM MILK SKIM MILK POWDER SUGAR CORN SYRUP SOLIDS CAROB BEAN GUM GUAR GUM SOY LECITHIN CARRAGEENAN     No UPC code \n",
      "**********\n",
      "Rum Truffle ice cream is packed in 25 gallon bulk 15 gallon bulk or half gallon retail size tubs  Retail size ice cream flavor is labeled in part Husky Ice Cream Inc 4721 California Ave SW Seattle WA 98116  HUSKY Cream of the Town HALF GALLON ICE CREAM wwwhuskydelicom INGREDIENTS CREAM MILK SKIM MILK POWDER SUGAR CORN SYRUP SOLIDS CAROB BEAN GUM GUAR GUM SOY LECITHIN CARRAGEENAN     No UPC code \n",
      "**********\n",
      "Red Raspberry Ribbon ice cream is packed in 25 gallon bulk 15 gallon bulk or half gallon retail size tubs  Retail size ice cream flavor is labeled in part Husky Ice Cream Inc 4721 California Ave SW Seattle WA 98116  HUSKY Cream of the Town HALF GALLON ICE CREAM wwwhuskydelicom INGREDIENTS CREAM MILK SKIM MILK POWDER SUGAR CORN SYRUP SOLIDS CAROB BEAN GUM GUAR GUM SOY LECITHIN CARRAGEENAN     No UPC code \n",
      "**********\n",
      "Nutella ice cream is packed in 25 gallon bulk 15 gallon bulk or half gallon retail size tubs  Retail size ice cream flavor is labeled in part Husky Ice Cream Inc 4721 California Ave SW Seattle WA 98116  HUSKY Cream of the Town HALF GALLON ICE CREAM wwwhuskydelicom INGREDIENTS CREAM MILK SKIM MILK POWDER SUGAR CORN SYRUP SOLIDS CAROB BEAN GUM GUAR GUM SOY LECITHIN CARRAGEENAN     No UPC code \n",
      "**********\n",
      "Dollar Mint ice cream is packed in 25 gallon bulk 15 gallon bulk or half gallon retail size tubs  Retail size ice cream flavor is labeled in part Husky Ice Cream Inc 4721 California Ave SW Seattle WA 98116  HUSKY Cream of the Town HALF GALLON ICE CREAM wwwhuskydelicom INGREDIENTS CREAM MILK SKIM MILK POWDER SUGAR CORN SYRUP SOLIDS CAROB BEAN GUM GUAR GUM SOY LECITHIN CARRAGEENAN     No UPC code \n",
      "**********\n",
      "Coconut ice cream is packed in 25 gallon bulk 15 gallon bulk or half gallon retail size tubs  Retail size ice cream flavor is labeled in part Husky Ice Cream Inc 4721 California Ave SW Seattle WA 98116  HUSKY Cream of the Town HALF GALLON ICE CREAM wwwhuskydelicom INGREDIENTS CREAM MILK SKIM MILK POWDER SUGAR CORN SYRUP SOLIDS CAROB BEAN GUM GUAR GUM SOY LECITHIN CARRAGEENAN     No UPC code \n",
      "**********\n",
      "Rocky Road ice cream is packed in 25 gallon bulk 15 gallon bulk or half gallon retail size tubs  Retail size ice cream flavor is labeled in part Husky Ice Cream Inc 4721 California Ave SW Seattle WA 98116  HUSKY Cream of the Town HALF GALLON ICE CREAM wwwhuskydelicom INGREDIENTS CREAM MILK SKIM MILK POWDER SUGAR CORN SYRUP SOLIDS CAROB BEAN GUM GUAR GUM SOY LECITHIN CARRAGEENAN     No UPC code \n",
      "**********\n",
      "Licorice ice cream is packed in 25 gallon bulk 15 gallon bulk or half gallon retail size tubs  Retail size ice cream flavor is labeled in part Husky Ice Cream Inc 4721 California Ave SW Seattle WA 98116  HUSKY Cream of the Town HALF GALLON ICE CREAM wwwhuskydelicom INGREDIENTS CREAM MILK SKIM MILK POWDER SUGAR CORN SYRUP SOLIDS CAROB BEAN GUM GUAR GUM SOY LECITHIN CARRAGEENAN     No UPC code \n",
      "**********\n",
      " Butter Toasted Pecan ice cream is packed in 25 gallon bulk 15 gallon bulk or half gallon retail size tubs  Retail size ice cream flavor is labeled in part Husky Ice Cream Inc 4721 California Ave SW Seattle WA 98116  HUSKY Cream of the Town HALF GALLON ICE CREAM wwwhuskydelicom INGREDIENTS CREAM MILK SKIM MILK POWDER SUGAR CORN SYRUP SOLIDS CAROB BEAN GUM GUAR GUM SOY LECITHIN CARRAGEENAN     No UPC code \n",
      "**********\n",
      "Oreo Cookie ice cream is packed in 25 gallon bulk 15 gallon bulk or half gallon retail size tubs  Retail size ice cream flavor is labeled in part Husky Ice Cream Inc 4721 California Ave SW Seattle WA 98116  HUSKY Cream of the Town HALF GALLON ICE CREAM wwwhuskydelicom INGREDIENTS CREAM MILK SKIM MILK POWDER SUGAR CORN SYRUP SOLIDS CAROB BEAN GUM GUAR GUM SOY LECITHIN CARRAGEENAN     No UPC code \n",
      "**********\n",
      "Mexican Chocolate ice cream labeled in part Full Tilt ice cream Mexican ChocolateIngredients Cream milk skim milk powder sugar bittersweet chocolate corn syrup solids dutch processed cocoa vanilla chocolate liquor cinnamon carob bean gum guar gum soy lecithin carrageenanSeattle WA 98106 wwwfulltilticecreamcom      Ice cream is packaged in 16 oz paper containers and 15 gallon and 3 gallon plastic tubs  UPC code 736211046192 for 16 oz container only  \n",
      "**********\n",
      " Thin Mint ice cream is packed in 25 gallon bulk 15 gallon bulk or half gallon retail size tubs  Retail size ice cream flavor is labeled in part Husky Ice Cream Inc 4721 California Ave SW Seattle WA 98116  HUSKY Cream of the Town HALF GALLON ICE CREAM wwwhuskydelicom INGREDIENTS CREAM MILK SKIM MILK POWDER SUGAR CORN SYRUP SOLIDS CAROB BEAN GUM GUAR GUM SOY LECITHIN CARRAGEENAN     No UPC code \n",
      "**********\n",
      "French Orange ice cream is packed in 25 gallon bulk 15 gallon bulk or half gallon retail size tubs  Retail size ice cream flavor is labeled in part Husky Ice Cream Inc 4721 California Ave SW Seattle WA 98116  HUSKY Cream of the Town HALF GALLON ICE CREAM wwwhuskydelicom INGREDIENTS CREAM MILK SKIM MILK POWDER SUGAR CORN SYRUP SOLIDS CAROB BEAN GUM GUAR GUM SOY LECITHIN CARRAGEENAN     No UPC code \n",
      "**********\n",
      "Spumoni ice cream is packed in 25 gallon bulk 15 gallon bulk or half gallon retail size tubs  Retail size ice cream flavor is labeled in part Husky Ice Cream Inc 4721 California Ave SW Seattle WA 98116  HUSKY Cream of the Town HALF GALLON ICE CREAM wwwhuskydelicom INGREDIENTS CREAM MILK SKIM MILK POWDER SUGAR CORN SYRUP SOLIDS CAROB BEAN GUM GUAR GUM SOY LECITHIN CARRAGEENAN     No UPC code \n",
      "**********\n",
      "Stout ice cream is packed in 25 gallon bulk 15 gallon bulk or half gallon retail size tubs  Retail size ice cream flavor is labeled in part Husky Ice Cream Inc 4721 California Ave SW Seattle WA 98116  HUSKY Cream of the Town HALF GALLON ICE CREAM wwwhuskydelicom INGREDIENTS CREAM MILK SKIM MILK POWDER SUGAR CORN SYRUP SOLIDS CAROB BEAN GUM GUAR GUM SOY LECITHIN CARRAGEENAN     No UPC code \n",
      "**********\n",
      "Strawberry Basil ice cream labeled in part Full Tilt ice cream Strawberry BasilIngredients Cream milk skim milk powder sugar Strawberries basil corn syrup solids carob bean gum guar gum soy lecithin carrageenanSeattle WA 98106 wwwfulltilticecreamcom      Ice cream is packaged in 16 oz paper containers and 15 gallon and 3 gallon plastic tubs  UPC code 713757814324  \n",
      "**********\n",
      "Root Beer ice cream is packed in 25 gallon bulk 15 gallon bulk or half gallon retail size tubs  Retail size ice cream flavor is labeled in part Husky Ice Cream Inc 4721 California Ave SW Seattle WA 98116  HUSKY Cream of the Town HALF GALLON ICE CREAM wwwhuskydelicom INGREDIENTS CREAM MILK SKIM MILK POWDER SUGAR CORN SYRUP SOLIDS CAROB BEAN GUM GUAR GUM SOY LECITHIN CARRAGEENAN     No UPC code \n",
      "**********\n",
      "Strawberry ice cream is packed in 25 gallon bulk 15 gallon bulk or half gallon retail size tubs  Retail size ice cream flavor is labeled in part Husky Ice Cream Inc 4721 California Ave SW Seattle WA 98116  HUSKY Cream of the Town HALF GALLON ICE CREAM wwwhuskydelicom INGREDIENTS CREAM MILK SKIM MILK POWDER SUGAR CORN SYRUP SOLIDS CAROB BEAN GUM GUAR GUM SOY LECITHIN CARRAGEENAN     No UPC code \n",
      "**********\n",
      "Blackberry Cheesecake ice cream is packed in 25 gallon bulk 15 gallon bulk or half gallon retail size tubs  Retail size ice cream flavor is labeled in part Husky Ice Cream Inc 4721 California Ave SW Seattle WA 98116  HUSKY Cream of the Town HALF GALLON ICE CREAM wwwhuskydelicom INGREDIENTS CREAM MILK SKIM MILK POWDER SUGAR CORN SYRUP SOLIDS CAROB BEAN GUM GUAR GUM SOY LECITHIN CARRAGEENAN     No UPC code \n",
      "**********\n",
      "Strawberry Grand Marnier ice cream is packed in 25 gallon bulk 15 gallon bulk or half gallon retail size tubs  Retail size ice cream flavor is labeled in part Husky Ice Cream Inc 4721 California Ave SW Seattle WA 98116  HUSKY Cream of the Town HALF GALLON ICE CREAM wwwhuskydelicom INGREDIENTS CREAM MILK SKIM MILK POWDER SUGAR CORN SYRUP SOLIDS CAROB BEAN GUM GUAR GUM SOY LECITHIN CARRAGEENAN     No UPC code \n",
      "**********\n",
      "Swiss Chocolate Orange ice cream is packed in 25 gallon bulk 15 gallon bulk or half gallon retail size tubs  Retail size ice cream flavor is labeled in part Husky Ice Cream Inc 4721 California Ave SW Seattle WA 98116  HUSKY Cream of the Town HALF GALLON ICE CREAM wwwhuskydelicom INGREDIENTS CREAM MILK SKIM MILK POWDER SUGAR CORN SYRUP SOLIDS CAROB BEAN GUM GUAR GUM SOY LECITHIN CARRAGEENAN     No UPC code \n",
      "**********\n",
      " Caramel Pecan Fudge ice cream is packed in 25 gallon bulk 15 gallon bulk or half gallon retail size tubs  Retail size ice cream flavor is labeled in part Husky Ice Cream Inc 4721 California Ave SW Seattle WA 98116  HUSKY Cream of the Town HALF GALLON ICE CREAM wwwhuskydelicom INGREDIENTS CREAM MILK SKIM MILK POWDER SUGAR CORN SYRUP SOLIDS CAROB BEAN GUM GUAR GUM SOY LECITHIN CARRAGEENAN     No UPC code \n",
      "**********\n",
      "Dark Chocolate ice cream labeled in part Full Tilt ice cream Dark ChocolateIngredients Cream milk skim milk powder sugar skim milk bittersweet chocolate Dutch process cocoa vanilla corn syrup solids chocolate liquor carob bean gum guar gum soy lecithin carrageenanSeattle WA 98106 wwwfulltilticecreamcom      Ice cream is packaged in 16 oz paper containers and 15 gallon and 3 gallon plastic tubs  UPC code713757814720 for 16 oz container only  \n",
      "**********\n",
      "Ube ice cream labeled in part Full Tilt ice cream UbeIngredients Cream milk sugar skim milk powder ube corn syrup solids  carob bean gum guar gum soy lecithin carrageenan natural flavoringSeattle WA 98106 wwwfulltilticecreamcom      Ice cream is packaged in 16 oz paper containers and 15 gallon and 3 gallon plastic tubs  UPC code 736211045799 for 16 oz container only  \n",
      "**********\n",
      "Peppermint ice cream is packed in 25 gallon bulk 15 gallon bulk or half gallon retail size tubs  Retail size ice cream flavor is labeled in part Husky Ice Cream Inc 4721 California Ave SW Seattle WA 98116  HUSKY Cream of the Town HALF GALLON ICE CREAM wwwhuskydelicom INGREDIENTS CREAM MILK SKIM MILK POWDER SUGAR CORN SYRUP SOLIDS CAROB BEAN GUM GUAR GUM SOY LECITHIN CARRAGEENAN     No UPC code \n",
      "**********\n",
      "Coffee Oreo ice cream is packed in 25 gallon bulk 15 gallon bulk or half gallon retail size tubs  Retail size ice cream flavor is labeled in part Husky Ice Cream Inc 4721 California Ave SW Seattle WA 98116  HUSKY Cream of the Town HALF GALLON ICE CREAM wwwhuskydelicom INGREDIENTS CREAM MILK SKIM MILK POWDER SUGAR CORN SYRUP SOLIDS CAROB BEAN GUM GUAR GUM SOY LECITHIN CARRAGEENAN     No UPC code \n",
      "**********\n",
      "Maple Walnut ice cream is packed in 25 gallon bulk 15 gallon bulk or half gallon retail size tubs  Retail size ice cream flavor is labeled in part Husky Ice Cream Inc 4721 California Ave SW Seattle WA 98116  HUSKY Cream of the Town HALF GALLON ICE CREAM wwwhuskydelicom INGREDIENTS CREAM MILK SKIM MILK POWDER SUGAR CORN SYRUP SOLIDS CAROB BEAN GUM GUAR GUM SOY LECITHIN CARRAGEENAN     No UPC code \n",
      "**********\n",
      "Mocha ice cream is packed in 25 gallon bulk 15 gallon bulk or half gallon retail size tubs  Retail size ice cream flavor is labeled in part Husky Ice Cream Inc 4721 California Ave SW Seattle WA 98116  HUSKY Cream of the Town HALF GALLON ICE CREAM wwwhuskydelicom INGREDIENTS CREAM MILK SKIM MILK POWDER SUGAR CORN SYRUP SOLIDS CAROB BEAN GUM GUAR GUM SOY LECITHIN CARRAGEENAN     No UPC code \n",
      "**********\n",
      "Reeses Peanut Butter ice cream is packed in 25 gallon bulk 15 gallon bulk or half gallon retail size tubs  Retail size ice cream flavor is labeled in part Husky Ice Cream Inc 4721 California Ave SW Seattle WA 98116  HUSKY Cream of the Town HALF GALLON ICE CREAM wwwhuskydelicom INGREDIENTS CREAM MILK SKIM MILK POWDER SUGAR CORN SYRUP SOLIDS CAROB BEAN GUM GUAR GUM SOY LECITHIN CARRAGEENAN     No UPC code \n",
      "**********\n",
      "Kona Koka Rum ice cream is packed in 25 gallon bulk 15 gallon bulk or half gallon retail size tubs  Retail size ice cream flavor is labeled in part Husky Ice Cream Inc 4721 California Ave SW Seattle WA 98116  HUSKY Cream of the Town HALF GALLON ICE CREAM wwwhuskydelicom INGREDIENTS CREAM MILK SKIM MILK POWDER SUGAR CORN SYRUP SOLIDS CAROB BEAN GUM GUAR GUM SOY LECITHIN CARRAGEENAN     No UPC code \n",
      "**********\n",
      "Bumberberry ice cream labeled in part Full Tilt ice cream BUMBERBERRYIngredients Cream milk sugar skim milk Washington blackberries Washington blueberries Washington strawberries Washington raspberries guar gum carob bean gum soy lecithin carrageenanSeattle WA 98108 wwwfulltilticecreamcom      Ice cream is packaged in 16 oz paper containers and 15 gallon and 3 gallon plastic tubs  UPC code696859211676 for 16 oz container only\n",
      "**********\n",
      " Chocolate Fudge ice cream is packed in 25 gallon bulk 15 gallon bulk or half gallon retail size tubs  Retail size ice cream flavor is labeled in part Husky Ice Cream Inc 4721 California Ave SW Seattle WA 98116  HUSKY Cream of the Town HALF GALLON ICE CREAM wwwhuskydelicom INGREDIENTS CREAM MILK SKIM MILK POWDER SUGAR CORN SYRUP SOLIDS CAROB BEAN GUM GUAR GUM SOY LECITHIN CARRAGEENAN     No UPC code \n",
      "**********\n",
      "Thai Iced Tea ice cream labeled in part Full Tilt ice cream Thai Iced Tea Ingredients Cream milk skim milk sugar ceylon tea cardamom star anise vanilla corn syrup solids carob bean gum guar gum soy lecithin carrageenanSeattle WA 98106 wwwfulltilticecreamcom      Ice cream is packaged in 16 oz paper containers and 15 gallon and 3 gallon plastic tubs  UPC code 713757814522  \n",
      "**********\n",
      "Vanilla Bean ice cream labeled in part Full Tilt ice cream Vanilla Bean Ingredients Cream milk skim milk powder sugar vanilla extract vanilla beans corn syrup solids carob bean gum guar gum soy lecithin carrageenanSeattle WA 98106 wwwfulltilticecreamcom      Ice cream is packaged in 16 oz paper containers and 15 gallon and 3 gallon plastic tubs  UPC code 713757814829 for 16 oz container only  \n",
      "**********\n",
      "Port Townsend Lavender ice cream labeled in part Full Tilt ice cream Port Townsend LavenderIngredients Cream milk skim milk sugar infusion of lavender buds guar gum carob bean gum soy lecithin carrageenanSeattle WA 98106 wwwfulltilticecreamcom      Ice cream is packaged in 16 oz paper containers and 15 gallon and 3 gallon plastic tubs  UPC code 713757814621 for 16 oz container only  \n",
      "**********\n",
      "Mudhoney ice cream labeled in part Full Tilt ice cream MudhoneyIngredients Cream milk sugar skim milk powder chocolate chips unsweetened chocolate sugar cocoa fat soy lecithin vanilla honey cinnamon vanilla carob bean gum guar gum soy lecithin carrageenanSeattle WA 98106 wwwfulltilticecreamcom      Ice cream is packaged in 16 oz paper containers and 15 gallon and 3 gallon plastic tubs    UPC code 696859211713 for 16 oz container only  \n",
      "**********\n",
      "Salted Caramel ice cream labeled in part Full Tilt ice cream Salted CaramelIngredients cream milk sugar skim milk powder vanilla carob bean gum guar gum soy lecithin carrageenan saltSeattle WA 98106 wwwfulltilticecreamcom      Ice cream is packaged in 16 oz paper containers and 15 gallon and 3 gallon plastic tubs  UPC code 736211046093 for 16 oz container only\n",
      "**********\n",
      "Coffee ice cream is packed in 25 gallon bulk 15 gallon bulk or half gallon retail size tubs  Retail size ice cream flavor is labeled in part Husky Ice Cream Inc 4721 California Ave SW Seattle WA 98116  HUSKY Cream of the Town HALF GALLON ICE CREAM wwwhuskydelicom INGREDIENTS CREAM MILK SKIM MILK POWDER SUGAR CORN SYRUP SOLIDS CAROB BEAN GUM GUAR GUM SOY LECITHIN CARRAGEENAN     No UPC code \n",
      "**********\n",
      "Macadamia Nut ice cream is packed in 25 gallon bulk 15 gallon bulk or half gallon retail size tubs  Retail size ice cream flavor is labeled in part Husky Ice Cream Inc 4721 California Ave SW Seattle WA 98116  HUSKY Cream of the Town HALF GALLON ICE CREAM wwwhuskydelicom INGREDIENTS CREAM MILK SKIM MILK POWDER SUGAR CORN SYRUP SOLIDS CAROB BEAN GUM GUAR GUM SOY LECITHIN CARRAGEENAN     No UPC code \n",
      "**********\n",
      "Almond Joy ice cream is packed in 25 gallon bulk 15 gallon bulk or half gallon retail size tubs  Retail size ice cream flavor is labeled in part Husky Ice Cream Inc 4721 California Ave SW Seattle WA 98116  HUSKY Cream of the Town HALF GALLON ICE CREAM wwwhuskydelicom INGREDIENTS CREAM MILK SKIM MILK POWDER SUGAR CORN SYRUP SOLIDS CAROB BEAN GUM GUAR GUM SOY LECITHIN CARRAGEENAN     No UPC code \n",
      "**********\n",
      "Peanut Butter and Jelly ice cream labeled in part Full Tilt ice cream Peanut Butter and JellyIngredients Cream milk skim milk powder sugar vanilla corn syrup solids Strawberry Jam strawberries sugar salt Peanut Butter peanuts salt carob bean gum guar gum soy lecithin carrageenanSeattle WA 98106 wwwfulltilticecreamcom      Ice cream is packaged in 16 oz paper containers and 15 gallon and 3 gallon plastic tubs  UPC code 713757814225 for 16 oz container only  \n",
      "**********\n",
      "Sub Pop Grunge ice cream labeled in part Full Tilt ice cream SUB POPIngredients Cream milk skim milk sugar chocolate covered espresso beans espresso beans unsweetened chocolate sugar cocoa fat soy lecithin vanilla coffee carob bean gum guar gum soy lecithin carrageenanSeattle WA 98106 wwwfulltilticecreamcom       Ice cream is packaged in 16 oz paper containers and 15 gallon and 3 gallon plastic tubs    UPC code 696859211683 for 16 oz container only  \n",
      "**********\n",
      "Seattle Chai ice cream labeled in part Full Tilt ice cream Seattle ChaiIngredients Cream milk skim milk sugar infusion of lavender buds guar gum carob bean gum soy lecithin carrageenanSeattle WA 98106 wwwfulltilticecreamcom      Ice cream is packaged in 16 oz paper containers and 15 gallon and 3 gallon plastic tubs  UPC code 713757815024 for 16 oz container only  \n",
      "**********\n",
      "Chocolate Fudge Brownie ice cream is packed in 25 gallon bulk 15 gallon bulk or half gallon retail size tubs  Retail size ice cream flavor is labeled in part Husky Ice Cream Inc 4721 California Ave SW Seattle WA 98116  HUSKY Cream of the Town HALF GALLON ICE CREAM wwwhuskydelicom INGREDIENTS CREAM MILK SKIM MILK POWDER SUGAR CORN SYRUP SOLIDS CAROB BEAN GUM GUAR GUM SOY LECITHIN CARRAGEENAN     No UPC code \n",
      "**********\n",
      "Caramel Swirl ice cream is packed in 25 gallon bulk 15 gallon bulk or half gallon retail size tubs  Retail size ice cream flavor is labeled in part Husky Ice Cream Inc 4721 California Ave SW Seattle WA 98116  HUSKY Cream of the Town HALF GALLON ICE CREAM wwwhuskydelicom INGREDIENTS CREAM MILK SKIM MILK POWDER SUGAR CORN SYRUP SOLIDS CAROB BEAN GUM GUAR GUM SOY LECITHIN CARRAGEENAN     No UPC code \n",
      "**********\n",
      "Banana ice cream is packed in 25 gallon bulk 15 gallon bulk or half gallon retail size tubs  Retail size ice cream flavor is labeled in part Husky Ice Cream Inc 4721 California Ave SW Seattle WA 98116  HUSKY Cream of the Town HALF GALLON ICE CREAM wwwhuskydelicom INGREDIENTS CREAM MILK SKIM MILK POWDER SUGAR CORN SYRUP SOLIDS CAROB BEAN GUM GUAR GUM SOY LECITHIN CARRAGEENAN     No UPC code \n",
      "**********\n",
      "Husky Flake ice cream is packed in 25 gallon bulk 15 gallon bulk or half gallon retail size tubs  Retail size ice cream flavor is labeled in part Husky Ice Cream Inc 4721 California Ave SW Seattle WA 98116  HUSKY Cream of the Town HALF GALLON ICE CREAM wwwhuskydelicom INGREDIENTS CREAM MILK SKIM MILK POWDER SUGAR CORN SYRUP SOLIDS CAROB BEAN GUM GUAR GUM SOY LECITHIN CARRAGEENAN     No UPC code \n",
      "**********\n",
      "Chocolate Chip Cookie Dough ice cream is packed in 25 gallon bulk 15 gallon bulk or half gallon retail size tubs  Retail size ice cream flavor is labeled in part Husky Ice Cream Inc 4721 California Ave SW Seattle WA 98116  HUSKY Cream of the Town HALF GALLON ICE CREAM wwwhuskydelicom INGREDIENTS CREAM MILK SKIM MILK POWDER SUGAR CORN SYRUP SOLIDS CAROB BEAN GUM GUAR GUM SOY LECITHIN CARRAGEENAN     No UPC code \n",
      "**********\n",
      "Banana Split ice cream is packed in 25 gallon bulk 15 gallon bulk or half gallon retail size tubs  Retail size ice cream flavor is labeled in part Husky Ice Cream Inc 4721 California Ave SW Seattle WA 98116  HUSKY Cream of the Town HALF GALLON ICE CREAM wwwhuskydelicom INGREDIENTS CREAM MILK SKIM MILK POWDER SUGAR CORN SYRUP SOLIDS CAROB BEAN GUM GUAR GUM SOY LECITHIN CARRAGEENAN     No UPC code \n",
      "**********\n",
      "Huckleberry Chip ice cream labeled in part Full Tilt ice cream Huckleberry ChipIngredients Cream milk sugar skim milk powder huckleberries chocolate chips unsweetened chocolate sugar cocoa fat soy lecithin vanilla vanilla carob bean gum corn syrup solids guar gum soy lecithin carrageenan glycol alcohol natural flavoringSeattle WA 98106 wwwfulltilticecreamcom      Ice cream is packaged in 16 oz paper containers and 15 gallon and 3 gallon plastic tubs  UPC code 736211045898 for 16 oz container only  \n",
      "**********\n",
      "Backyard Mint Chip ice cream labeled in part Full Tilt ice cream Backyard Mint Chip Ingredients Cream milk skim milk sugar fresh mint Chocolate Chips unsweetened chocolate sugar cocoa fat soy lecithin vanilla corn syrup solids carob bean gum guar gum soy lecithin carrageenanSeattle WA 98106 wwwfulltilticecreamcom      Ice cream is packaged in 16 oz paper containers and 15 gallon and 3 gallon plastic tubs  UPC code 713757814928 for 16 oz container only\n",
      "**********\n",
      "Green Tea Chip ice cream labeled in part Full Tilt ice cream Green Tea ChipIngredients Cream milk skim milk sugar green tea powder Chocolate Chips unsweetened chocolate sugar cocoa fat soy lecithin vanilla corn syrup solids carob bean gum guar gum soy lecithin carrageenanSeattle WA 98106 wwwfulltilticecreamcom      Ice cream is packaged in 16 oz paper containers and 15 gallon and 3 gallon plastic tubs  UPC code 713757814423 for 16 oz container only  \n",
      "**********\n",
      "Arroz con Leche Frozen Pops 40 fl oz frozen pop is individually packaged in a sealed plastic bag 24 popscase  Product is labeled in part  rice cinnamon vanilla cream milk skim milk powder nongmo cane sugar less than 04 stabilizer carob bean gum guar gum soy lecithin carrageenanSeattle Pops PO Box 31285 Seattle WA 98103    No UPC code\n",
      "**********\n",
      "Strawberry Cheesecake ice cream is packed in 25 gallon bulk 15 gallon bulk or half gallon retail size tubs  Retail size ice cream flavor is labeled in part Husky Ice Cream Inc 4721 California Ave SW Seattle WA 98116  HUSKY Cream of the Town HALF GALLON ICE CREAM wwwhuskydelicom INGREDIENTS CREAM MILK SKIM MILK POWDER SUGAR CORN SYRUP SOLIDS CAROB BEAN GUM GUAR GUM SOY LECITHIN CARRAGEENAN     No UPC code \n",
      "**********\n",
      "Lemon Custard ice cream is packed in 25 gallon bulk 15 gallon bulk or half gallon retail size tubs  Retail size ice cream flavor is labeled in part Husky Ice Cream Inc 4721 California Ave SW Seattle WA 98116  HUSKY Cream of the Town HALF GALLON ICE CREAM wwwhuskydelicom INGREDIENTS CREAM MILK SKIM MILK POWDER SUGAR CORN SYRUP SOLIDS CAROB BEAN GUM GUAR GUM SOY LECITHIN CARRAGEENAN     No UPC code \n",
      "**********\n",
      "Oreo Mint ice cream is packed in 25 gallon bulk 15 gallon bulk or half gallon retail size tubs  Retail size ice cream flavor is labeled in part Husky Ice Cream Inc 4721 California Ave SW Seattle WA 98116  HUSKY Cream of the Town HALF GALLON ICE CREAM wwwhuskydelicom INGREDIENTS CREAM MILK SKIM MILK POWDER SUGAR CORN SYRUP SOLIDS CAROB BEAN GUM GUAR GUM SOY LECITHIN CARRAGEENAN     No UPC code \n",
      "**********\n",
      "Pumpkin Pie Frozen Pops 40 fl oz frozen pop is individually packaged in a sealed plastic bag 24 popscase  Product is labeled in part  pumpkin cinnamon cloves nutmeg cream milk skim milk powder nongmo cane sugar less than 04 stabilizer carob bean gum guar gum soy lecithin carrageenanSeattle Pops PO Box 31285 Seattle WA 98103    No UPC code\n",
      "**********\n",
      "Coconut Cream Frozen Pops 40 fl oz frozen pop is individually packaged in a sealed plastic bag 24 popscase  Product is labeled in part  cream milk skim milk powder nongmo cane sugar coconut milk coconut flakes less than 04 stabilizer carob bean gum guar gum soy lecithin carrageenanSeattle Pops PO Box 31285 Seattle WA 98103    No UPC code\n",
      "**********\n"
     ]
    }
   ],
   "source": [
    "# You should look at all the clusters, but let's look at cluster \"15\" (I chose this arbitrarily; you should look at all of them)\n",
    "\n",
    "for i in range(0,len(km.labels_)):\n",
    "    if km.labels_[i] == 15:\n",
    "        print(raw_data['product_description'][i])\n",
    "        print('**********')"
   ]
  },
  {
   "cell_type": "code",
   "execution_count": null,
   "metadata": {},
   "outputs": [],
   "source": []
  }
 ],
 "metadata": {
  "kernelspec": {
   "display_name": "Python 3 (ipykernel)",
   "language": "python",
   "name": "python3"
  },
  "language_info": {
   "codemirror_mode": {
    "name": "ipython",
    "version": 3
   },
   "file_extension": ".py",
   "mimetype": "text/x-python",
   "name": "python",
   "nbconvert_exporter": "python",
   "pygments_lexer": "ipython3",
   "version": "3.9.13"
  }
 },
 "nbformat": 4,
 "nbformat_minor": 2
}
